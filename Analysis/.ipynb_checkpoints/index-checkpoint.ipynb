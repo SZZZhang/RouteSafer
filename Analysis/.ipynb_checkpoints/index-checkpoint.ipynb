{
 "cells": [
  {
   "cell_type": "code",
   "execution_count": 83,
   "metadata": {
    "collapsed": true
   },
   "outputs": [],
   "source": [
    "import pandas as pd\n",
    "import numpy as np\n",
    "import gmplot\n",
    "\n",
    "import matplotlib.pyplot as plt\n",
    "\n",
    "import folium\n",
    "from IPython.display import display\n",
    "\n",
    "import sklearn\n",
    "import sklearn.preprocessing as pre\n",
    "import sklearn.model_selection as mdl"
   ]
  },
  {
   "cell_type": "code",
   "execution_count": 84,
   "metadata": {
    "collapsed": true
   },
   "outputs": [],
   "source": [
    "accident1 = pd.read_csv('../RawData/KSI(1999-2014).csv')\n",
    "accident2 = pd.read_csv('../RawData/KSI(2008-2018).csv')\n",
    "print(\"123\")"
   ]
  },
  {
   "cell_type": "code",
   "execution_count": null,
   "metadata": {
    "collapsed": true
   },
   "outputs": [],
   "source": []
  },
  {
   "cell_type": "code",
   "execution_count": null,
   "metadata": {
    "collapsed": true
   },
   "outputs": [],
   "source": []
  },
  {
   "cell_type": "code",
   "execution_count": 85,
   "metadata": {
    "collapsed": true,
    "scrolled": true
   },
   "outputs": [],
   "source": [
    "accident = accident2[['DATE','LATITUDE', 'LONGITUDE', 'STREET1', 'STREET2', 'ROAD_CLASS', 'District', \n",
    "                      'LOCCOORD', 'ACCLOC', 'INJURY', 'INITDIR', 'VEHTYPE', 'MANOEUVER', 'DRIVACT', \n",
    "                      'SPEEDING', 'AG_DRIV', 'REDLIGHT', 'ALCOHOL']]"
   ]
  },
  {
   "cell_type": "code",
   "execution_count": 86,
   "metadata": {},
   "outputs": [
    {
     "name": "stdout",
     "output_type": "stream",
     "text": [
      "<class 'pandas.core.frame.DataFrame'>\n",
      "RangeIndex: 12244 entries, 0 to 12243\n",
      "Data columns (total 18 columns):\n",
      "DATE          12244 non-null object\n",
      "LATITUDE      12244 non-null float64\n",
      "LONGITUDE     12244 non-null float64\n",
      "STREET1       12244 non-null object\n",
      "STREET2       12244 non-null object\n",
      "ROAD_CLASS    12244 non-null object\n",
      "District      12244 non-null object\n",
      "LOCCOORD      12244 non-null object\n",
      "ACCLOC        12244 non-null object\n",
      "INJURY        12244 non-null object\n",
      "INITDIR       12244 non-null object\n",
      "VEHTYPE       12244 non-null object\n",
      "MANOEUVER     12244 non-null object\n",
      "DRIVACT       12244 non-null object\n",
      "SPEEDING      12244 non-null object\n",
      "AG_DRIV       12244 non-null object\n",
      "REDLIGHT      12244 non-null object\n",
      "ALCOHOL       12244 non-null object\n",
      "dtypes: float64(2), object(16)\n",
      "memory usage: 1.7+ MB\n"
     ]
    }
   ],
   "source": [
    "accident.info()"
   ]
  },
  {
   "cell_type": "code",
   "execution_count": 87,
   "metadata": {},
   "outputs": [
    {
     "data": {
      "text/html": [
       "<div>\n",
       "<style>\n",
       "    .dataframe thead tr:only-child th {\n",
       "        text-align: right;\n",
       "    }\n",
       "\n",
       "    .dataframe thead th {\n",
       "        text-align: left;\n",
       "    }\n",
       "\n",
       "    .dataframe tbody tr th {\n",
       "        vertical-align: top;\n",
       "    }\n",
       "</style>\n",
       "<table border=\"1\" class=\"dataframe\">\n",
       "  <thead>\n",
       "    <tr style=\"text-align: right;\">\n",
       "      <th></th>\n",
       "      <th>DATE</th>\n",
       "      <th>LATITUDE</th>\n",
       "      <th>LONGITUDE</th>\n",
       "      <th>STREET1</th>\n",
       "      <th>STREET2</th>\n",
       "      <th>ROAD_CLASS</th>\n",
       "      <th>District</th>\n",
       "      <th>LOCCOORD</th>\n",
       "      <th>ACCLOC</th>\n",
       "      <th>INJURY</th>\n",
       "      <th>INITDIR</th>\n",
       "      <th>VEHTYPE</th>\n",
       "      <th>MANOEUVER</th>\n",
       "      <th>DRIVACT</th>\n",
       "      <th>SPEEDING</th>\n",
       "      <th>AG_DRIV</th>\n",
       "      <th>REDLIGHT</th>\n",
       "      <th>ALCOHOL</th>\n",
       "    </tr>\n",
       "  </thead>\n",
       "  <tbody>\n",
       "    <tr>\n",
       "      <th>0</th>\n",
       "      <td>2017-06-03T04:00:00.000Z</td>\n",
       "      <td>43.675280</td>\n",
       "      <td>-79.454730</td>\n",
       "      <td>ST CLAIR AVE W</td>\n",
       "      <td>CALEDONIA RD</td>\n",
       "      <td>Major Arterial</td>\n",
       "      <td>Toronto and East York</td>\n",
       "      <td>Intersection</td>\n",
       "      <td>Intersection Related</td>\n",
       "      <td>Major</td>\n",
       "      <td>West</td>\n",
       "      <td>Bicycle</td>\n",
       "      <td>Going Ahead</td>\n",
       "      <td></td>\n",
       "      <td></td>\n",
       "      <td>Yes</td>\n",
       "      <td></td>\n",
       "      <td></td>\n",
       "    </tr>\n",
       "    <tr>\n",
       "      <th>1</th>\n",
       "      <td>2017-09-25T04:00:00.000Z</td>\n",
       "      <td>43.770049</td>\n",
       "      <td>-79.520641</td>\n",
       "      <td>4673 JANE ST</td>\n",
       "      <td></td>\n",
       "      <td>Major Arterial</td>\n",
       "      <td>Etobicoke York</td>\n",
       "      <td>Mid-Block</td>\n",
       "      <td>Non Intersection</td>\n",
       "      <td>None</td>\n",
       "      <td>North</td>\n",
       "      <td>Automobile, Station Wagon</td>\n",
       "      <td>Going Ahead</td>\n",
       "      <td>Driving Properly</td>\n",
       "      <td>Yes</td>\n",
       "      <td>Yes</td>\n",
       "      <td></td>\n",
       "      <td></td>\n",
       "    </tr>\n",
       "    <tr>\n",
       "      <th>2</th>\n",
       "      <td>2017-09-25T04:00:00.000Z</td>\n",
       "      <td>43.770049</td>\n",
       "      <td>-79.520641</td>\n",
       "      <td>4673 JANE ST</td>\n",
       "      <td></td>\n",
       "      <td>Major Arterial</td>\n",
       "      <td>Etobicoke York</td>\n",
       "      <td>Mid-Block</td>\n",
       "      <td>Non Intersection</td>\n",
       "      <td>Major</td>\n",
       "      <td>East</td>\n",
       "      <td></td>\n",
       "      <td></td>\n",
       "      <td></td>\n",
       "      <td>Yes</td>\n",
       "      <td>Yes</td>\n",
       "      <td></td>\n",
       "      <td></td>\n",
       "    </tr>\n",
       "    <tr>\n",
       "      <th>3</th>\n",
       "      <td>2017-12-01T05:00:00.000Z</td>\n",
       "      <td>43.751868</td>\n",
       "      <td>-79.286601</td>\n",
       "      <td>BIRCHMOUNT RD</td>\n",
       "      <td>MERRYFIELD DR</td>\n",
       "      <td>Major Arterial</td>\n",
       "      <td>Scarborough</td>\n",
       "      <td>Intersection</td>\n",
       "      <td>At Intersection</td>\n",
       "      <td>None</td>\n",
       "      <td>North</td>\n",
       "      <td>Passenger Van</td>\n",
       "      <td>Going Ahead</td>\n",
       "      <td>Driving Properly</td>\n",
       "      <td></td>\n",
       "      <td></td>\n",
       "      <td></td>\n",
       "      <td></td>\n",
       "    </tr>\n",
       "    <tr>\n",
       "      <th>4</th>\n",
       "      <td>2017-12-01T05:00:00.000Z</td>\n",
       "      <td>43.751868</td>\n",
       "      <td>-79.286601</td>\n",
       "      <td>BIRCHMOUNT RD</td>\n",
       "      <td>MERRYFIELD DR</td>\n",
       "      <td>Major Arterial</td>\n",
       "      <td>Scarborough</td>\n",
       "      <td>Intersection</td>\n",
       "      <td>At Intersection</td>\n",
       "      <td>Fatal</td>\n",
       "      <td>East</td>\n",
       "      <td></td>\n",
       "      <td></td>\n",
       "      <td></td>\n",
       "      <td></td>\n",
       "      <td></td>\n",
       "      <td></td>\n",
       "      <td></td>\n",
       "    </tr>\n",
       "  </tbody>\n",
       "</table>\n",
       "</div>"
      ],
      "text/plain": [
       "                       DATE   LATITUDE  LONGITUDE         STREET1  \\\n",
       "0  2017-06-03T04:00:00.000Z  43.675280 -79.454730  ST CLAIR AVE W   \n",
       "1  2017-09-25T04:00:00.000Z  43.770049 -79.520641    4673 JANE ST   \n",
       "2  2017-09-25T04:00:00.000Z  43.770049 -79.520641    4673 JANE ST   \n",
       "3  2017-12-01T05:00:00.000Z  43.751868 -79.286601   BIRCHMOUNT RD   \n",
       "4  2017-12-01T05:00:00.000Z  43.751868 -79.286601   BIRCHMOUNT RD   \n",
       "\n",
       "         STREET2      ROAD_CLASS               District      LOCCOORD  \\\n",
       "0   CALEDONIA RD  Major Arterial  Toronto and East York  Intersection   \n",
       "1                 Major Arterial         Etobicoke York     Mid-Block   \n",
       "2                 Major Arterial         Etobicoke York     Mid-Block   \n",
       "3  MERRYFIELD DR  Major Arterial            Scarborough  Intersection   \n",
       "4  MERRYFIELD DR  Major Arterial            Scarborough  Intersection   \n",
       "\n",
       "                 ACCLOC INJURY INITDIR                    VEHTYPE  \\\n",
       "0  Intersection Related  Major    West                    Bicycle   \n",
       "1      Non Intersection   None   North  Automobile, Station Wagon   \n",
       "2      Non Intersection  Major    East                              \n",
       "3       At Intersection   None   North              Passenger Van   \n",
       "4       At Intersection  Fatal    East                              \n",
       "\n",
       "     MANOEUVER           DRIVACT SPEEDING AG_DRIV REDLIGHT ALCOHOL  \n",
       "0  Going Ahead                                Yes                   \n",
       "1  Going Ahead  Driving Properly      Yes     Yes                   \n",
       "2                                     Yes     Yes                   \n",
       "3  Going Ahead  Driving Properly                                    \n",
       "4                                                                   "
      ]
     },
     "execution_count": 87,
     "metadata": {},
     "output_type": "execute_result"
    }
   ],
   "source": [
    "accident.head()"
   ]
  },
  {
   "cell_type": "code",
   "execution_count": 88,
   "metadata": {},
   "outputs": [
    {
     "name": "stderr",
     "output_type": "stream",
     "text": [
      "C:\\Users\\Tanvy\\Anaconda3\\lib\\site-packages\\ipykernel_launcher.py:1: SettingWithCopyWarning: \n",
      "A value is trying to be set on a copy of a slice from a DataFrame.\n",
      "Try using .loc[row_indexer,col_indexer] = value instead\n",
      "\n",
      "See the caveats in the documentation: http://pandas.pydata.org/pandas-docs/stable/indexing.html#indexing-view-versus-copy\n",
      "  \"\"\"Entry point for launching an IPython kernel.\n"
     ]
    }
   ],
   "source": [
    "accident[\"DATE\"] = pd.to_datetime(accident[\"DATE\"])\n",
    "accident.index = accident[\"DATE\"]"
   ]
  },
  {
   "cell_type": "code",
   "execution_count": 89,
   "metadata": {},
   "outputs": [
    {
     "data": {
      "text/plain": [
       "array([2017, 2008, 2014, 2015, 2018, 2013, 2009, 2010, 2012, 2016, 2011], dtype=int64)"
      ]
     },
     "execution_count": 89,
     "metadata": {},
     "output_type": "execute_result"
    }
   ],
   "source": [
    "pd.unique(accident['DATE'].dt.year)"
   ]
  },
  {
   "cell_type": "code",
   "execution_count": 90,
   "metadata": {
    "collapsed": true
   },
   "outputs": [],
   "source": [
    "accident = accident.replace(' ', np.NAN, regex=False)"
   ]
  },
  {
   "cell_type": "code",
   "execution_count": null,
   "metadata": {
    "collapsed": true
   },
   "outputs": [],
   "source": [
    "labelEncoder_district = pre.LabelEncoder()\n"
   ]
  },
  {
   "cell_type": "code",
   "execution_count": null,
   "metadata": {
    "collapsed": true
   },
   "outputs": [],
   "source": []
  },
  {
   "cell_type": "code",
   "execution_count": null,
   "metadata": {
    "collapsed": true
   },
   "outputs": [],
   "source": []
  }
 ],
 "metadata": {
  "kernelspec": {
   "display_name": "Python 3",
   "language": "python",
   "name": "python3"
  },
  "language_info": {
   "codemirror_mode": {
    "name": "ipython",
    "version": 3
   },
   "file_extension": ".py",
   "mimetype": "text/x-python",
   "name": "python",
   "nbconvert_exporter": "python",
   "pygments_lexer": "ipython3",
   "version": "3.6.3"
  }
 },
 "nbformat": 4,
 "nbformat_minor": 2
}
